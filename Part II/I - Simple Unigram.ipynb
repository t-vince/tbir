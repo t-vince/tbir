{
 "cells": [
  {
   "cell_type": "markdown",
   "metadata": {},
   "source": [
    "# Text-based Information Retrieval\n",
    "\n",
    "## Assignment PART II\n",
    "#### Simple Unigram Language Model\n",
    "A language model assigns a probability to each word to occur. This probability can be calculated for n-words before the the given word you wish to calculate the probability for.\n",
    "\n",
    "The simpelest model is the Unigram model, where no previous words are taken into account. This means that the change of a certain sequence equals the multiplication of chances of each individual chance, or more formal:\n",
    "\n",
    "Puni(w1w2w3w4) = P(w1)P(w2)P(w3)P(w4)\n",
    "\n",
    "The full basics can be found here: http://nlp.stanford.edu/IR-book/pdf/12lmodel.pdf\n"
   ]
  },
  {
   "cell_type": "code",
   "execution_count": null,
   "metadata": {
    "collapsed": true
   },
   "outputs": [],
   "source": [
    "# Variables\n",
    "queries = 'data/queries_val.txt'\n",
    "target_collection = 'data/target_collection.txt'"
   ]
  },
  {
   "cell_type": "code",
   "execution_count": null,
   "metadata": {
    "collapsed": true
   },
   "outputs": [],
   "source": [
    "# Loading modules\n",
    "import os\n",
    "from collections import OrderedDict\n",
    "\n",
    "# Set up logger that logs (works in jupyter 3!) in console and outputs in file\n",
    "import logging\n",
    "logger = logging.getLogger()\n",
    "fhandler = logging.FileHandler(filename='mylog.log', mode='a')\n",
    "formatter = logging.Formatter('%(asctime)s - %(name)s - %(levelname)s - %(message)s')\n",
    "fhandler.setFormatter(formatter)\n",
    "logger.addHandler(fhandler)\n",
    "logger.setLevel(logging.DEBUG)"
   ]
  },
  {
   "cell_type": "code",
   "execution_count": null,
   "metadata": {
    "collapsed": true
   },
   "outputs": [],
   "source": [
    "# Training model\n"
   ]
  },
  {
   "cell_type": "code",
   "execution_count": null,
   "metadata": {
    "collapsed": true
   },
   "outputs": [],
   "source": [
    "# Loading model\n"
   ]
  },
  {
   "cell_type": "code",
   "execution_count": null,
   "metadata": {
    "collapsed": true
   },
   "outputs": [],
   "source": [
    "# Test and printing model\n"
   ]
  }
 ],
 "metadata": {
  "kernelspec": {
   "display_name": "Python 2",
   "language": "python",
   "name": "python2"
  },
  "language_info": {
   "codemirror_mode": {
    "name": "ipython",
    "version": 2
   },
   "file_extension": ".py",
   "mimetype": "text/x-python",
   "name": "python",
   "nbconvert_exporter": "python",
   "pygments_lexer": "ipython2",
   "version": "2.7.11"
  }
 },
 "nbformat": 4,
 "nbformat_minor": 0
}
